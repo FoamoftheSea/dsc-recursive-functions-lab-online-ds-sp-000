{
 "cells": [
  {
   "cell_type": "markdown",
   "metadata": {},
   "source": [
    "# Recursive Functions - Lab\n",
    "\n",
    "## Introduction\n",
    "\n",
    "Now that you've seen a little preview of recursive functions, it's time to give them a try!\n",
    "\n",
    "## Objectives\n",
    "\n",
    "You will be able to:\n",
    "\n",
    "* Describe the concept of a recursive function\n",
    "* Create a recursive function\n",
    "* Demonstrate how local scope changes with recursive functions\n",
    "* Compare depth first versus breadth first searches\n",
    "\n",
    "## Fibonacci\n",
    "\n",
    "The Fibonacci sequence starts off:\n",
    "1,1,2,3,5,8,13,21,34,...\n",
    "\n",
    "Each number is the sum of the two preceding. Write a recursive function that calculates the nth number of the Fibonacci sequence. For example, our sequence above would correspond to:\n",
    "\n",
    "fib(1) = 1 #The 1st element in the sequence is 1\n",
    "\n",
    "fib(2) = 1 #The 2nd element in the sequence is 1\n",
    "\n",
    "fib(3) = 2 #The 3rd element in the sequence is 2\n",
    "\n",
    "fib(4) = 3 #The 4th element in the sequence is 3\n",
    "\n",
    "fib(5) = 5 #The 5th element in the sequence is 5\n",
    "\n",
    "fib(6) = 8 #The 6th element in the sequence is 8\n",
    "\n",
    "fib(7) = 13 #The 7th element in the sequence is 13\n",
    "\n",
    "fib(8) = 21 #The 8th element in the sequence is 21\n",
    "\n",
    "fib(9) = 34 #The 9th element in the sequence is 34"
   ]
  },
  {
   "cell_type": "code",
   "execution_count": 44,
   "metadata": {},
   "outputs": [],
   "source": [
    "# Your code here\n",
    "def fib(n):\n",
    "    last = [0,1]\n",
    "    for i in range(n-1):\n",
    "        value = sum(last[-2:])\n",
    "        last.append(value)\n",
    "    return value"
   ]
  },
  {
   "cell_type": "code",
   "execution_count": 45,
   "metadata": {},
   "outputs": [
    {
     "data": {
      "text/plain": [
       "21"
      ]
     },
     "execution_count": 45,
     "metadata": {},
     "output_type": "execute_result"
    }
   ],
   "source": [
    "fib(8)"
   ]
  },
  {
   "cell_type": "markdown",
   "metadata": {},
   "source": [
    "## Flat list\n",
    "\n",
    "Write a function that takes a nested list and flattens it to a list of ints, floats and strings.\n",
    "For example the nested list [1, [2, 3, [4, 5, 6]], 7, [8], [9, 10]] would become [1, 2, 3, 4, 5, 6, 7, 8, 9, 10] or \n",
    "[1, 2, [3, 4, [5]]] would become [1, 2, 3, 4, 5].\n",
    "\n",
    "> **Note**: Be careful how you initialize your function! See [this link](https://docs.quantifiedcode.com/python-anti-patterns/correctness/mutable_default_value_as_argument.html) for some potential pitfalls you could encounter if you're not careful!"
   ]
  },
  {
   "cell_type": "code",
   "execution_count": 40,
   "metadata": {},
   "outputs": [],
   "source": [
    "# Your code here\n",
    "def flat_list(L):\n",
    "    flattened = []\n",
    "    for i in L:\n",
    "        if type(i) == list:\n",
    "            j = flat_list(i)\n",
    "            for x in j:\n",
    "                flattened.append(x)\n",
    "        else:\n",
    "            flattened.append(i)\n",
    "    return flattened"
   ]
  },
  {
   "cell_type": "code",
   "execution_count": 41,
   "metadata": {},
   "outputs": [
    {
     "data": {
      "text/plain": [
       "[1, 2, 3, 4, 5, 6, 7, 8, 9, 10]"
      ]
     },
     "execution_count": 41,
     "metadata": {},
     "output_type": "execute_result"
    }
   ],
   "source": [
    "flat_list([1, [2, 3, [4, 5, 6]], 7, [8], [9, 10]])"
   ]
  },
  {
   "cell_type": "markdown",
   "metadata": {},
   "source": [
    "## Depth vs Breadth First Search\n",
    "\n",
    "Did you use breadth or depth first recursive calls above? Explain."
   ]
  },
  {
   "cell_type": "code",
   "execution_count": null,
   "metadata": {},
   "outputs": [],
   "source": [
    "# I used depth first because when deeper lists were encountered they were explored and not\n",
    "# set aside for later."
   ]
  },
  {
   "cell_type": "markdown",
   "metadata": {},
   "source": [
    "## Summary\n",
    "Well done! Recursive functions are an advanced topic in Python and you got some good practice tackling classic problems here."
   ]
  }
 ],
 "metadata": {
  "kernelspec": {
   "display_name": "Python 3",
   "language": "python",
   "name": "python3"
  },
  "language_info": {
   "codemirror_mode": {
    "name": "ipython",
    "version": 3
   },
   "file_extension": ".py",
   "mimetype": "text/x-python",
   "name": "python",
   "nbconvert_exporter": "python",
   "pygments_lexer": "ipython3",
   "version": "3.7.3"
  },
  "toc": {
   "base_numbering": 1,
   "nav_menu": {},
   "number_sections": true,
   "sideBar": true,
   "skip_h1_title": false,
   "title_cell": "Table of Contents",
   "title_sidebar": "Contents",
   "toc_cell": false,
   "toc_position": {},
   "toc_section_display": true,
   "toc_window_display": false
  }
 },
 "nbformat": 4,
 "nbformat_minor": 2
}
